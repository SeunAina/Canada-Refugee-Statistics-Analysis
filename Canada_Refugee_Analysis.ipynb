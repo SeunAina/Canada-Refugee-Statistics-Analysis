{
 "cells": [
  {
   "cell_type": "markdown",
   "id": "abd5c37c",
   "metadata": {},
   "source": [
    "# Canada Refugee Statistics"
   ]
  },
  {
   "cell_type": "code",
   "execution_count": 1,
   "id": "a3c62545",
   "metadata": {},
   "outputs": [],
   "source": [
    "import pandas as pd\n",
    "import numpy as np\n",
    "import matplotlib.pyplot as plt\n",
    "import seaborn as sns"
   ]
  },
  {
   "cell_type": "code",
   "execution_count": 2,
   "id": "37a25a53",
   "metadata": {},
   "outputs": [],
   "source": [
    "def addlabels(x,y):\n",
    "    for i in range(len(x)):\n",
    "        plt.text(i,y[i], y[i], ha = \"center\")"
   ]
  },
  {
   "cell_type": "code",
   "execution_count": 3,
   "id": "eadb7168",
   "metadata": {},
   "outputs": [],
   "source": [
    "df = pd.read_csv(\"can-stats-2012-22.csv\")"
   ]
  },
  {
   "cell_type": "markdown",
   "id": "7eb96fb5",
   "metadata": {},
   "source": [
    "## Understanding the Dataset"
   ]
  },
  {
   "cell_type": "code",
   "execution_count": 4,
   "id": "aea92060",
   "metadata": {
    "scrolled": true
   },
   "outputs": [
    {
     "name": "stdout",
     "output_type": "stream",
     "text": [
      "<class 'pandas.core.frame.DataFrame'>\n",
      "RangeIndex: 1870 entries, 0 to 1869\n",
      "Data columns (total 5 columns):\n",
      " #   Column             Non-Null Count  Dtype \n",
      "---  ------             --------------  ----- \n",
      " 0   Year               1870 non-null   int64 \n",
      " 1   Country-of-origin  1870 non-null   object\n",
      " 2   UNHCR-refugees     1870 non-null   int64 \n",
      " 3   Asylum-seekers     1870 non-null   int64 \n",
      " 4   total-count        1870 non-null   int64 \n",
      "dtypes: int64(4), object(1)\n",
      "memory usage: 73.2+ KB\n"
     ]
    }
   ],
   "source": [
    "df.info()"
   ]
  },
  {
   "cell_type": "markdown",
   "id": "2106ae74",
   "metadata": {},
   "source": [
    "### The infomation above shows that \n",
    "1. There are **no** missing values in the dataset\n",
    "2. The total numbers of columns = **5**\n",
    "3. The total numbers of records =  **1870**\n",
    "4. There data types are as appropraite\n"
   ]
  },
  {
   "cell_type": "code",
   "execution_count": 5,
   "id": "ddc4b829",
   "metadata": {
    "scrolled": true
   },
   "outputs": [
    {
     "data": {
      "text/plain": [
       "0"
      ]
     },
     "execution_count": 5,
     "metadata": {},
     "output_type": "execute_result"
    }
   ],
   "source": [
    "df.duplicated().sum()"
   ]
  },
  {
   "cell_type": "code",
   "execution_count": 6,
   "id": "cc28245b",
   "metadata": {},
   "outputs": [
    {
     "data": {
      "text/plain": [
       "184"
      ]
     },
     "execution_count": 6,
     "metadata": {},
     "output_type": "execute_result"
    }
   ],
   "source": [
    "df[\"Country-of-origin\"].nunique()"
   ]
  },
  {
   "cell_type": "markdown",
   "id": "c6a09993",
   "metadata": {},
   "source": [
    "There are no duplicate records in the dataset"
   ]
  },
  {
   "cell_type": "code",
   "execution_count": 7,
   "id": "550a18b3",
   "metadata": {
    "scrolled": true
   },
   "outputs": [
    {
     "data": {
      "text/html": [
       "<div>\n",
       "<style scoped>\n",
       "    .dataframe tbody tr th:only-of-type {\n",
       "        vertical-align: middle;\n",
       "    }\n",
       "\n",
       "    .dataframe tbody tr th {\n",
       "        vertical-align: top;\n",
       "    }\n",
       "\n",
       "    .dataframe thead th {\n",
       "        text-align: right;\n",
       "    }\n",
       "</style>\n",
       "<table border=\"1\" class=\"dataframe\">\n",
       "  <thead>\n",
       "    <tr style=\"text-align: right;\">\n",
       "      <th></th>\n",
       "      <th>count</th>\n",
       "      <th>mean</th>\n",
       "      <th>std</th>\n",
       "      <th>min</th>\n",
       "      <th>25%</th>\n",
       "      <th>50%</th>\n",
       "      <th>75%</th>\n",
       "      <th>max</th>\n",
       "    </tr>\n",
       "  </thead>\n",
       "  <tbody>\n",
       "    <tr>\n",
       "      <th>Year</th>\n",
       "      <td>1870.0</td>\n",
       "      <td>2016.955615</td>\n",
       "      <td>3.167123</td>\n",
       "      <td>2012.0</td>\n",
       "      <td>2014.00</td>\n",
       "      <td>2017.0</td>\n",
       "      <td>2020.00</td>\n",
       "      <td>2022.0</td>\n",
       "    </tr>\n",
       "    <tr>\n",
       "      <th>UNHCR-refugees</th>\n",
       "      <td>1870.0</td>\n",
       "      <td>752.438503</td>\n",
       "      <td>2427.738942</td>\n",
       "      <td>0.0</td>\n",
       "      <td>20.00</td>\n",
       "      <td>124.0</td>\n",
       "      <td>563.75</td>\n",
       "      <td>75098.0</td>\n",
       "    </tr>\n",
       "    <tr>\n",
       "      <th>Asylum-seekers</th>\n",
       "      <td>1870.0</td>\n",
       "      <td>323.139572</td>\n",
       "      <td>1181.143362</td>\n",
       "      <td>0.0</td>\n",
       "      <td>7.00</td>\n",
       "      <td>36.0</td>\n",
       "      <td>195.25</td>\n",
       "      <td>19765.0</td>\n",
       "    </tr>\n",
       "    <tr>\n",
       "      <th>total-count</th>\n",
       "      <td>1870.0</td>\n",
       "      <td>1075.578075</td>\n",
       "      <td>2980.751399</td>\n",
       "      <td>0.0</td>\n",
       "      <td>39.25</td>\n",
       "      <td>187.0</td>\n",
       "      <td>889.75</td>\n",
       "      <td>75294.0</td>\n",
       "    </tr>\n",
       "  </tbody>\n",
       "</table>\n",
       "</div>"
      ],
      "text/plain": [
       "                 count         mean          std     min      25%     50%  \\\n",
       "Year            1870.0  2016.955615     3.167123  2012.0  2014.00  2017.0   \n",
       "UNHCR-refugees  1870.0   752.438503  2427.738942     0.0    20.00   124.0   \n",
       "Asylum-seekers  1870.0   323.139572  1181.143362     0.0     7.00    36.0   \n",
       "total-count     1870.0  1075.578075  2980.751399     0.0    39.25   187.0   \n",
       "\n",
       "                    75%      max  \n",
       "Year            2020.00   2022.0  \n",
       "UNHCR-refugees   563.75  75098.0  \n",
       "Asylum-seekers   195.25  19765.0  \n",
       "total-count      889.75  75294.0  "
      ]
     },
     "execution_count": 7,
     "metadata": {},
     "output_type": "execute_result"
    }
   ],
   "source": [
    "df.describe().T"
   ]
  },
  {
   "cell_type": "markdown",
   "id": "d79af67d",
   "metadata": {},
   "source": [
    "## Observations"
   ]
  },
  {
   "cell_type": "markdown",
   "id": "53c19086",
   "metadata": {},
   "source": [
    "**Year**: The Dataset covers a total of **10 years**, ranging from 2012 to 2023, with an average of 2016\n",
    "\n",
    "**UNHCR-refugees**: The total number of UNHCR refuges in the data set is **753**\n",
    "\n",
    "**Asylum-seekers**: The total number of Asylum-seekers in the data set is **323**"
   ]
  },
  {
   "cell_type": "code",
   "execution_count": 8,
   "id": "c57ac8f4",
   "metadata": {},
   "outputs": [
    {
     "data": {
      "text/plain": [
       "Index(['Year', 'Country-of-origin', 'UNHCR-refugees', 'Asylum-seekers',\n",
       "       'total-count'],\n",
       "      dtype='object')"
      ]
     },
     "execution_count": 8,
     "metadata": {},
     "output_type": "execute_result"
    }
   ],
   "source": [
    "df.columns"
   ]
  },
  {
   "cell_type": "code",
   "execution_count": 9,
   "id": "cfc1b887",
   "metadata": {},
   "outputs": [
    {
     "name": "stderr",
     "output_type": "stream",
     "text": [
      "C:\\Users\\Admin\\AppData\\Local\\Temp\\ipykernel_11040\\1134722465.py:1: FutureWarning: The default value of numeric_only in DataFrame.corr is deprecated. In a future version, it will default to False. Select only valid columns or specify the value of numeric_only to silence this warning.\n",
      "  df.corr()\n"
     ]
    },
    {
     "data": {
      "text/html": [
       "<div>\n",
       "<style scoped>\n",
       "    .dataframe tbody tr th:only-of-type {\n",
       "        vertical-align: middle;\n",
       "    }\n",
       "\n",
       "    .dataframe tbody tr th {\n",
       "        vertical-align: top;\n",
       "    }\n",
       "\n",
       "    .dataframe thead th {\n",
       "        text-align: right;\n",
       "    }\n",
       "</style>\n",
       "<table border=\"1\" class=\"dataframe\">\n",
       "  <thead>\n",
       "    <tr style=\"text-align: right;\">\n",
       "      <th></th>\n",
       "      <th>Year</th>\n",
       "      <th>UNHCR-refugees</th>\n",
       "      <th>Asylum-seekers</th>\n",
       "      <th>total-count</th>\n",
       "    </tr>\n",
       "  </thead>\n",
       "  <tbody>\n",
       "    <tr>\n",
       "      <th>Year</th>\n",
       "      <td>1.000000</td>\n",
       "      <td>-0.024037</td>\n",
       "      <td>0.144239</td>\n",
       "      <td>0.037578</td>\n",
       "    </tr>\n",
       "    <tr>\n",
       "      <th>UNHCR-refugees</th>\n",
       "      <td>-0.024037</td>\n",
       "      <td>1.000000</td>\n",
       "      <td>0.278267</td>\n",
       "      <td>0.924737</td>\n",
       "    </tr>\n",
       "    <tr>\n",
       "      <th>Asylum-seekers</th>\n",
       "      <td>0.144239</td>\n",
       "      <td>0.278267</td>\n",
       "      <td>1.000000</td>\n",
       "      <td>0.622897</td>\n",
       "    </tr>\n",
       "    <tr>\n",
       "      <th>total-count</th>\n",
       "      <td>0.037578</td>\n",
       "      <td>0.924737</td>\n",
       "      <td>0.622897</td>\n",
       "      <td>1.000000</td>\n",
       "    </tr>\n",
       "  </tbody>\n",
       "</table>\n",
       "</div>"
      ],
      "text/plain": [
       "                    Year  UNHCR-refugees  Asylum-seekers  total-count\n",
       "Year            1.000000       -0.024037        0.144239     0.037578\n",
       "UNHCR-refugees -0.024037        1.000000        0.278267     0.924737\n",
       "Asylum-seekers  0.144239        0.278267        1.000000     0.622897\n",
       "total-count     0.037578        0.924737        0.622897     1.000000"
      ]
     },
     "execution_count": 9,
     "metadata": {},
     "output_type": "execute_result"
    }
   ],
   "source": [
    "df.corr()"
   ]
  },
  {
   "cell_type": "markdown",
   "id": "7f44b573",
   "metadata": {},
   "source": [
    "## Exploratory Data Analysis"
   ]
  },
  {
   "cell_type": "code",
   "execution_count": 10,
   "id": "5f32341e",
   "metadata": {},
   "outputs": [
    {
     "data": {
      "text/html": [
       "<div>\n",
       "<style scoped>\n",
       "    .dataframe tbody tr th:only-of-type {\n",
       "        vertical-align: middle;\n",
       "    }\n",
       "\n",
       "    .dataframe tbody tr th {\n",
       "        vertical-align: top;\n",
       "    }\n",
       "\n",
       "    .dataframe thead th {\n",
       "        text-align: right;\n",
       "    }\n",
       "</style>\n",
       "<table border=\"1\" class=\"dataframe\">\n",
       "  <thead>\n",
       "    <tr style=\"text-align: right;\">\n",
       "      <th></th>\n",
       "      <th>Country-of-origin</th>\n",
       "      <th>UNHCR-refugees</th>\n",
       "    </tr>\n",
       "  </thead>\n",
       "  <tbody>\n",
       "    <tr>\n",
       "      <th>0</th>\n",
       "      <td>Colombia</td>\n",
       "      <td>108416</td>\n",
       "    </tr>\n",
       "    <tr>\n",
       "      <th>1</th>\n",
       "      <td>China</td>\n",
       "      <td>98586</td>\n",
       "    </tr>\n",
       "    <tr>\n",
       "      <th>2</th>\n",
       "      <td>Ukraine</td>\n",
       "      <td>88376</td>\n",
       "    </tr>\n",
       "    <tr>\n",
       "      <th>3</th>\n",
       "      <td>Pakistan</td>\n",
       "      <td>74737</td>\n",
       "    </tr>\n",
       "    <tr>\n",
       "      <th>4</th>\n",
       "      <td>Haiti</td>\n",
       "      <td>70956</td>\n",
       "    </tr>\n",
       "    <tr>\n",
       "      <th>5</th>\n",
       "      <td>Sri Lanka</td>\n",
       "      <td>66343</td>\n",
       "    </tr>\n",
       "    <tr>\n",
       "      <th>6</th>\n",
       "      <td>Nigeria</td>\n",
       "      <td>60554</td>\n",
       "    </tr>\n",
       "    <tr>\n",
       "      <th>7</th>\n",
       "      <td>Mexico</td>\n",
       "      <td>51072</td>\n",
       "    </tr>\n",
       "    <tr>\n",
       "      <th>8</th>\n",
       "      <td>Türkiye</td>\n",
       "      <td>42533</td>\n",
       "    </tr>\n",
       "    <tr>\n",
       "      <th>9</th>\n",
       "      <td>Iran (Islamic Rep. of)</td>\n",
       "      <td>40881</td>\n",
       "    </tr>\n",
       "  </tbody>\n",
       "</table>\n",
       "</div>"
      ],
      "text/plain": [
       "        Country-of-origin  UNHCR-refugees\n",
       "0                Colombia          108416\n",
       "1                   China           98586\n",
       "2                 Ukraine           88376\n",
       "3                Pakistan           74737\n",
       "4                   Haiti           70956\n",
       "5               Sri Lanka           66343\n",
       "6                 Nigeria           60554\n",
       "7                  Mexico           51072\n",
       "8                 Türkiye           42533\n",
       "9  Iran (Islamic Rep. of)           40881"
      ]
     },
     "execution_count": 10,
     "metadata": {},
     "output_type": "execute_result"
    }
   ],
   "source": [
    "# Q1 From which countries has Canada admitted the highest number of refugees?\n",
    "\n",
    "highest_numbers_of_refugee_by_country = df[\"UNHCR-refugees\"].groupby(df[\"Country-of-origin\"]).sum().sort_values(ascending = False).reset_index()[0:10]\n",
    "highest_numbers_of_refugee_by_country\n"
   ]
  },
  {
   "cell_type": "code",
   "execution_count": 11,
   "id": "52918fcc",
   "metadata": {},
   "outputs": [
    {
     "data": {
      "image/png": "[encoded data removed]",
      "text/plain": [
       "<Figure size 1000x400 with 1 Axes>"
      ]
     },
     "metadata": {},
     "output_type": "display_data"
    }
   ],
   "source": [
    "# Q1 Vizual\n",
    "\n",
    "plt.figure(figsize = (10,4))\n",
    "sns.barplot(x = \"Country-of-origin\", y = \"UNHCR-refugees\", data = highest_numbers_of_refugee_by_country, palette = \"mako\")\n",
    "plt.title(\"Highest Numbers Of Refugee By Country\")\n",
    "plt.xlabel(\"UNHCR-refugees\")\n",
    "plt.ylabel(\"Year\")\n",
    "plt.xticks(rotation = 45)\n",
    "\n",
    "addlabels(highest_numbers_of_refugee_by_country[\"Country-of-origin\"].to_list(),\n",
    "          highest_numbers_of_refugee_by_country[\"UNHCR-refugees\"].to_list())\n",
    "plt.show()"
   ]
  },
  {
   "cell_type": "code",
   "execution_count": 12,
   "id": "eea65514",
   "metadata": {
    "scrolled": true
   },
   "outputs": [
    {
     "data": {
      "text/html": [
       "<div>\n",
       "<style scoped>\n",
       "    .dataframe tbody tr th:only-of-type {\n",
       "        vertical-align: middle;\n",
       "    }\n",
       "\n",
       "    .dataframe tbody tr th {\n",
       "        vertical-align: top;\n",
       "    }\n",
       "\n",
       "    .dataframe thead th {\n",
       "        text-align: right;\n",
       "    }\n",
       "</style>\n",
       "<table border=\"1\" class=\"dataframe\">\n",
       "  <thead>\n",
       "    <tr style=\"text-align: right;\">\n",
       "      <th></th>\n",
       "      <th>Year</th>\n",
       "      <th>UNHCR-refugees</th>\n",
       "    </tr>\n",
       "  </thead>\n",
       "  <tbody>\n",
       "    <tr>\n",
       "      <th>0</th>\n",
       "      <td>2012</td>\n",
       "      <td>163751</td>\n",
       "    </tr>\n",
       "    <tr>\n",
       "      <th>1</th>\n",
       "      <td>2013</td>\n",
       "      <td>160347</td>\n",
       "    </tr>\n",
       "    <tr>\n",
       "      <th>2</th>\n",
       "      <td>2014</td>\n",
       "      <td>149164</td>\n",
       "    </tr>\n",
       "    <tr>\n",
       "      <th>3</th>\n",
       "      <td>2022</td>\n",
       "      <td>140621</td>\n",
       "    </tr>\n",
       "    <tr>\n",
       "      <th>4</th>\n",
       "      <td>2015</td>\n",
       "      <td>135890</td>\n",
       "    </tr>\n",
       "    <tr>\n",
       "      <th>5</th>\n",
       "      <td>2021</td>\n",
       "      <td>130125</td>\n",
       "    </tr>\n",
       "    <tr>\n",
       "      <th>6</th>\n",
       "      <td>2018</td>\n",
       "      <td>114101</td>\n",
       "    </tr>\n",
       "    <tr>\n",
       "      <th>7</th>\n",
       "      <td>2020</td>\n",
       "      <td>109214</td>\n",
       "    </tr>\n",
       "    <tr>\n",
       "      <th>8</th>\n",
       "      <td>2017</td>\n",
       "      <td>104768</td>\n",
       "    </tr>\n",
       "    <tr>\n",
       "      <th>9</th>\n",
       "      <td>2019</td>\n",
       "      <td>101757</td>\n",
       "    </tr>\n",
       "    <tr>\n",
       "      <th>10</th>\n",
       "      <td>2016</td>\n",
       "      <td>97322</td>\n",
       "    </tr>\n",
       "  </tbody>\n",
       "</table>\n",
       "</div>"
      ],
      "text/plain": [
       "    Year  UNHCR-refugees\n",
       "0   2012          163751\n",
       "1   2013          160347\n",
       "2   2014          149164\n",
       "3   2022          140621\n",
       "4   2015          135890\n",
       "5   2021          130125\n",
       "6   2018          114101\n",
       "7   2020          109214\n",
       "8   2017          104768\n",
       "9   2019          101757\n",
       "10  2016           97322"
      ]
     },
     "execution_count": 12,
     "metadata": {},
     "output_type": "execute_result"
    }
   ],
   "source": [
    "# Q2 What are the total number of resettled refugees in Canada per year?\n",
    "\n",
    "total_number_of_resettled_refugee_by_year = df[\"UNHCR-refugees\"].groupby(df[\"Year\"]).sum().sort_values(ascending = False).reset_index()\n",
    "total_number_of_resettled_refugee_by_year \n",
    "\n"
   ]
  },
  {
   "cell_type": "code",
   "execution_count": 13,
   "id": "e3215a9a",
   "metadata": {
    "scrolled": false
   },
   "outputs": [
    {
     "data": {
      "image/png": "[encoded data removed]",
      "text/plain": [
       "<Figure size 1000x400 with 1 Axes>"
      ]
     },
     "metadata": {},
     "output_type": "display_data"
    }
   ],
   "source": [
    "# Q2 Vizual\n",
    "plt.figure(figsize = (10,4))\n",
    "sns.lineplot(x = \"Year\", y = \"UNHCR-refugees\", data = total_number_of_resettled_refugee_by_year, marker = \"o\", color = \"red\")\n",
    "plt.title(\"Total Number Of Resettled Refugee By Year\")\n",
    "plt.xlabel(\"UNHCR-refugees\")\n",
    "plt.ylabel(\"Year\")\n",
    "plt.xticks(rotation = 45)\n",
    "plt.grid(visible = True)\n",
    "\n",
    "\n",
    "plt.show()"
   ]
  },
  {
   "cell_type": "code",
   "execution_count": 14,
   "id": "dfe6bdb6",
   "metadata": {
    "scrolled": true
   },
   "outputs": [
    {
     "data": {
      "text/plain": [
       "Country-of-origin\n",
       "Unknown    56098\n",
       "Nigeria    51620\n",
       "India      48806\n",
       "Mexico     47146\n",
       "Haiti      40908\n",
       "Name: Asylum-seekers, dtype: int64"
      ]
     },
     "execution_count": 14,
     "metadata": {},
     "output_type": "execute_result"
    }
   ],
   "source": [
    "# Q3 What are the countries of origin for the majority of asylum claims made in Canada?\n",
    "top_5_asylum_claims_by_country = df[\"Asylum-seekers\"].groupby(df[\"Country-of-origin\"]).sum().sort_values(ascending = False)[0:5]\n",
    "top_5_asylum_claims_by_country\n",
    "\n"
   ]
  },
  {
   "cell_type": "code",
   "execution_count": 15,
   "id": "deaa45b5",
   "metadata": {},
   "outputs": [
    {
     "data": {
      "text/plain": [
       "Country-of-origin\n",
       "Unknown    22.936650\n",
       "Nigeria    21.105741\n",
       "India      19.955188\n",
       "Mexico     19.276468\n",
       "Haiti      16.725952\n",
       "Name: Asylum-seekers, dtype: float64"
      ]
     },
     "execution_count": 15,
     "metadata": {},
     "output_type": "execute_result"
    }
   ],
   "source": [
    "percentage_top_5_asylum_claims_by_country = top_5_asylum_claims_by_country/top_5_asylum_claims_by_country.sum()*100\n",
    "percentage_top_5_asylum_claims_by_country"
   ]
  },
  {
   "cell_type": "code",
   "execution_count": 16,
   "id": "29b9f148",
   "metadata": {
    "scrolled": false
   },
   "outputs": [
    {
     "data": {
      "image/png": "[encoded data removed]",
      "text/plain": [
       "<Figure size 700x400 with 1 Axes>"
      ]
     },
     "metadata": {},
     "output_type": "display_data"
    }
   ],
   "source": [
    "# Q3 Vizual\n",
    "\n",
    "keys = ['Unknown (22.94 %)','Nigeria (21.10 %)','India (19.95 %)','Mexico (19.28 %)','Haiti (16.73 %)']\n",
    "\n",
    "plt.figure(figsize = (7,4))\n",
    "plt.pie(top_5_asylum_claims_by_country, labels = keys)\n",
    "plt.title(\"Top 5 Asylum Claims By Country\");"
   ]
  },
  {
   "cell_type": "code",
   "execution_count": 17,
   "id": "fd1cbe0c",
   "metadata": {},
   "outputs": [
    {
     "data": {
      "text/html": [
       "<div>\n",
       "<style scoped>\n",
       "    .dataframe tbody tr th:only-of-type {\n",
       "        vertical-align: middle;\n",
       "    }\n",
       "\n",
       "    .dataframe tbody tr th {\n",
       "        vertical-align: top;\n",
       "    }\n",
       "\n",
       "    .dataframe thead th {\n",
       "        text-align: right;\n",
       "    }\n",
       "</style>\n",
       "<table border=\"1\" class=\"dataframe\">\n",
       "  <thead>\n",
       "    <tr style=\"text-align: right;\">\n",
       "      <th></th>\n",
       "      <th>Year</th>\n",
       "      <th>Asylum-seekers</th>\n",
       "    </tr>\n",
       "  </thead>\n",
       "  <tbody>\n",
       "    <tr>\n",
       "      <th>0</th>\n",
       "      <td>2022</td>\n",
       "      <td>113066</td>\n",
       "    </tr>\n",
       "    <tr>\n",
       "      <th>1</th>\n",
       "      <td>2019</td>\n",
       "      <td>97017</td>\n",
       "    </tr>\n",
       "    <tr>\n",
       "      <th>2</th>\n",
       "      <td>2020</td>\n",
       "      <td>85352</td>\n",
       "    </tr>\n",
       "    <tr>\n",
       "      <th>3</th>\n",
       "      <td>2018</td>\n",
       "      <td>78766</td>\n",
       "    </tr>\n",
       "    <tr>\n",
       "      <th>4</th>\n",
       "      <td>2021</td>\n",
       "      <td>63143</td>\n",
       "    </tr>\n",
       "    <tr>\n",
       "      <th>5</th>\n",
       "      <td>2017</td>\n",
       "      <td>51859</td>\n",
       "    </tr>\n",
       "    <tr>\n",
       "      <th>6</th>\n",
       "      <td>2012</td>\n",
       "      <td>32647</td>\n",
       "    </tr>\n",
       "    <tr>\n",
       "      <th>7</th>\n",
       "      <td>2016</td>\n",
       "      <td>23946</td>\n",
       "    </tr>\n",
       "    <tr>\n",
       "      <th>8</th>\n",
       "      <td>2013</td>\n",
       "      <td>22145</td>\n",
       "    </tr>\n",
       "    <tr>\n",
       "      <th>9</th>\n",
       "      <td>2015</td>\n",
       "      <td>19631</td>\n",
       "    </tr>\n",
       "    <tr>\n",
       "      <th>10</th>\n",
       "      <td>2014</td>\n",
       "      <td>16699</td>\n",
       "    </tr>\n",
       "  </tbody>\n",
       "</table>\n",
       "</div>"
      ],
      "text/plain": [
       "    Year  Asylum-seekers\n",
       "0   2022          113066\n",
       "1   2019           97017\n",
       "2   2020           85352\n",
       "3   2018           78766\n",
       "4   2021           63143\n",
       "5   2017           51859\n",
       "6   2012           32647\n",
       "7   2016           23946\n",
       "8   2013           22145\n",
       "9   2015           19631\n",
       "10  2014           16699"
      ]
     },
     "execution_count": 17,
     "metadata": {},
     "output_type": "execute_result"
    }
   ],
   "source": [
    "# Q4 What is the total number of asylum claims made in Canada every year?\n",
    "\n",
    "total_number_of_asylum_seekers_by_year = df[\"Asylum-seekers\"].groupby(df[\"Year\"]).sum().sort_values(ascending = False).reset_index()\n",
    "total_number_of_asylum_seekers_by_year\n",
    "\n"
   ]
  },
  {
   "cell_type": "code",
   "execution_count": 18,
   "id": "5a5abe67",
   "metadata": {},
   "outputs": [
    {
     "data": {
      "image/png": "[encoded data removed]",
      "text/plain": [
       "<Figure size 1000x400 with 1 Axes>"
      ]
     },
     "metadata": {},
     "output_type": "display_data"
    }
   ],
   "source": [
    "# Q4 Vizual\n",
    "\n",
    "plt.figure(figsize = (10,4))\n",
    "sns.lineplot(x = \"Year\", y = \"Asylum-seekers\", data = total_number_of_asylum_seekers_by_year, marker = \"o\", color = \"red\")\n",
    "plt.title(\"Total Number Of Asylum Seekers By Year\")\n",
    "plt.xlabel(\"UNHCR-refugees\")\n",
    "plt.ylabel(\"Year\")\n",
    "plt.xticks(rotation = 45)\n",
    "plt.grid(visible = True)\n",
    "plt.show()"
   ]
  },
  {
   "cell_type": "code",
   "execution_count": 19,
   "id": "e129fbb1",
   "metadata": {},
   "outputs": [
    {
     "data": {
      "text/plain": [
       "0.27826653631264564"
      ]
     },
     "execution_count": 19,
     "metadata": {},
     "output_type": "execute_result"
    }
   ],
   "source": [
    "df[\"Asylum-seekers\"].corr(df[\"UNHCR-refugees\"])"
   ]
  },
  {
   "cell_type": "code",
   "execution_count": 20,
   "id": "fd84b363",
   "metadata": {},
   "outputs": [
    {
     "data": {
      "text/plain": [
       "0.14423851840169538"
      ]
     },
     "execution_count": 20,
     "metadata": {},
     "output_type": "execute_result"
    }
   ],
   "source": [
    "df[\"Asylum-seekers\"].corr(df[\"Year\"])"
   ]
  },
  {
   "cell_type": "code",
   "execution_count": 21,
   "id": "83dbe19e",
   "metadata": {},
   "outputs": [
    {
     "data": {
      "text/plain": [
       "-0.024036684793306565"
      ]
     },
     "execution_count": 21,
     "metadata": {},
     "output_type": "execute_result"
    }
   ],
   "source": [
    "df[\"UNHCR-refugees\"].corr(df[\"Year\"])"
   ]
  },
  {
   "cell_type": "code",
   "execution_count": 22,
   "id": "7d144b0c",
   "metadata": {},
   "outputs": [
    {
     "data": {
      "text/html": [
       "<div>\n",
       "<style scoped>\n",
       "    .dataframe tbody tr th:only-of-type {\n",
       "        vertical-align: middle;\n",
       "    }\n",
       "\n",
       "    .dataframe tbody tr th {\n",
       "        vertical-align: top;\n",
       "    }\n",
       "\n",
       "    .dataframe thead th {\n",
       "        text-align: right;\n",
       "    }\n",
       "</style>\n",
       "<table border=\"1\" class=\"dataframe\">\n",
       "  <thead>\n",
       "    <tr style=\"text-align: right;\">\n",
       "      <th></th>\n",
       "      <th>Country-of-origin</th>\n",
       "      <th>total-count</th>\n",
       "    </tr>\n",
       "  </thead>\n",
       "  <tbody>\n",
       "    <tr>\n",
       "      <th>0</th>\n",
       "      <td>Colombia</td>\n",
       "      <td>138891</td>\n",
       "    </tr>\n",
       "    <tr>\n",
       "      <th>1</th>\n",
       "      <td>China</td>\n",
       "      <td>120112</td>\n",
       "    </tr>\n",
       "    <tr>\n",
       "      <th>2</th>\n",
       "      <td>Nigeria</td>\n",
       "      <td>112174</td>\n",
       "    </tr>\n",
       "    <tr>\n",
       "      <th>3</th>\n",
       "      <td>Haiti</td>\n",
       "      <td>111864</td>\n",
       "    </tr>\n",
       "    <tr>\n",
       "      <th>4</th>\n",
       "      <td>Mexico</td>\n",
       "      <td>98218</td>\n",
       "    </tr>\n",
       "    <tr>\n",
       "      <th>...</th>\n",
       "      <td>...</td>\n",
       "      <td>...</td>\n",
       "    </tr>\n",
       "    <tr>\n",
       "      <th>179</th>\n",
       "      <td>Kiribati</td>\n",
       "      <td>15</td>\n",
       "    </tr>\n",
       "    <tr>\n",
       "      <th>180</th>\n",
       "      <td>Cabo Verde</td>\n",
       "      <td>10</td>\n",
       "    </tr>\n",
       "    <tr>\n",
       "      <th>181</th>\n",
       "      <td>Luxembourg</td>\n",
       "      <td>5</td>\n",
       "    </tr>\n",
       "    <tr>\n",
       "      <th>182</th>\n",
       "      <td>Bermuda</td>\n",
       "      <td>5</td>\n",
       "    </tr>\n",
       "    <tr>\n",
       "      <th>183</th>\n",
       "      <td>Western Sahara</td>\n",
       "      <td>5</td>\n",
       "    </tr>\n",
       "  </tbody>\n",
       "</table>\n",
       "<p>184 rows × 2 columns</p>\n",
       "</div>"
      ],
      "text/plain": [
       "    Country-of-origin  total-count\n",
       "0            Colombia       138891\n",
       "1               China       120112\n",
       "2             Nigeria       112174\n",
       "3               Haiti       111864\n",
       "4              Mexico        98218\n",
       "..                ...          ...\n",
       "179          Kiribati           15\n",
       "180        Cabo Verde           10\n",
       "181        Luxembourg            5\n",
       "182           Bermuda            5\n",
       "183    Western Sahara            5\n",
       "\n",
       "[184 rows x 2 columns]"
      ]
     },
     "execution_count": 22,
     "metadata": {},
     "output_type": "execute_result"
    }
   ],
   "source": [
    "# Q5 What are the general trends in refugee and asylum statistics from 2012-2022?\n",
    "\n",
    "top_refugees_by_countries = df[\"total-count\"].groupby(df[\"Country-of-origin\"]).sum().sort_values(ascending = False).reset_index()\n",
    "top_refugees_by_countries"
   ]
  },
  {
   "cell_type": "code",
   "execution_count": 23,
   "id": "0e67e0cf",
   "metadata": {},
   "outputs": [
    {
     "data": {
      "text/html": [
       "<div>\n",
       "<style scoped>\n",
       "    .dataframe tbody tr th:only-of-type {\n",
       "        vertical-align: middle;\n",
       "    }\n",
       "\n",
       "    .dataframe tbody tr th {\n",
       "        vertical-align: top;\n",
       "    }\n",
       "\n",
       "    .dataframe thead th {\n",
       "        text-align: right;\n",
       "    }\n",
       "</style>\n",
       "<table border=\"1\" class=\"dataframe\">\n",
       "  <thead>\n",
       "    <tr style=\"text-align: right;\">\n",
       "      <th></th>\n",
       "      <th>Year</th>\n",
       "      <th>UNHCR-refugees</th>\n",
       "      <th>Asylum-seekers</th>\n",
       "    </tr>\n",
       "  </thead>\n",
       "  <tbody>\n",
       "    <tr>\n",
       "      <th>0</th>\n",
       "      <td>2012</td>\n",
       "      <td>163751</td>\n",
       "      <td>32647</td>\n",
       "    </tr>\n",
       "    <tr>\n",
       "      <th>1</th>\n",
       "      <td>2013</td>\n",
       "      <td>160347</td>\n",
       "      <td>22145</td>\n",
       "    </tr>\n",
       "    <tr>\n",
       "      <th>2</th>\n",
       "      <td>2014</td>\n",
       "      <td>149164</td>\n",
       "      <td>16699</td>\n",
       "    </tr>\n",
       "    <tr>\n",
       "      <th>3</th>\n",
       "      <td>2015</td>\n",
       "      <td>135890</td>\n",
       "      <td>19631</td>\n",
       "    </tr>\n",
       "    <tr>\n",
       "      <th>4</th>\n",
       "      <td>2016</td>\n",
       "      <td>97322</td>\n",
       "      <td>23946</td>\n",
       "    </tr>\n",
       "    <tr>\n",
       "      <th>5</th>\n",
       "      <td>2017</td>\n",
       "      <td>104768</td>\n",
       "      <td>51859</td>\n",
       "    </tr>\n",
       "    <tr>\n",
       "      <th>6</th>\n",
       "      <td>2018</td>\n",
       "      <td>114101</td>\n",
       "      <td>78766</td>\n",
       "    </tr>\n",
       "    <tr>\n",
       "      <th>7</th>\n",
       "      <td>2019</td>\n",
       "      <td>101757</td>\n",
       "      <td>97017</td>\n",
       "    </tr>\n",
       "    <tr>\n",
       "      <th>8</th>\n",
       "      <td>2020</td>\n",
       "      <td>109214</td>\n",
       "      <td>85352</td>\n",
       "    </tr>\n",
       "    <tr>\n",
       "      <th>9</th>\n",
       "      <td>2021</td>\n",
       "      <td>130125</td>\n",
       "      <td>63143</td>\n",
       "    </tr>\n",
       "    <tr>\n",
       "      <th>10</th>\n",
       "      <td>2022</td>\n",
       "      <td>140621</td>\n",
       "      <td>113066</td>\n",
       "    </tr>\n",
       "  </tbody>\n",
       "</table>\n",
       "</div>"
      ],
      "text/plain": [
       "    Year  UNHCR-refugees  Asylum-seekers\n",
       "0   2012          163751           32647\n",
       "1   2013          160347           22145\n",
       "2   2014          149164           16699\n",
       "3   2015          135890           19631\n",
       "4   2016           97322           23946\n",
       "5   2017          104768           51859\n",
       "6   2018          114101           78766\n",
       "7   2019          101757           97017\n",
       "8   2020          109214           85352\n",
       "9   2021          130125           63143\n",
       "10  2022          140621          113066"
      ]
     },
     "execution_count": 23,
     "metadata": {},
     "output_type": "execute_result"
    }
   ],
   "source": [
    "resettled_and_asylum_yrls = df[[\"UNHCR-refugees\",\"Asylum-seekers\"]].groupby(df[\"Year\"]).sum().sort_values(\"Year\").reset_index()\n",
    "resettled_and_asylum_yrls"
   ]
  },
  {
   "cell_type": "code",
   "execution_count": 24,
   "id": "476d0c5c",
   "metadata": {},
   "outputs": [
    {
     "data": {
      "text/html": [
       "<div>\n",
       "<style scoped>\n",
       "    .dataframe tbody tr th:only-of-type {\n",
       "        vertical-align: middle;\n",
       "    }\n",
       "\n",
       "    .dataframe tbody tr th {\n",
       "        vertical-align: top;\n",
       "    }\n",
       "\n",
       "    .dataframe thead th {\n",
       "        text-align: right;\n",
       "    }\n",
       "</style>\n",
       "<table border=\"1\" class=\"dataframe\">\n",
       "  <thead>\n",
       "    <tr style=\"text-align: right;\">\n",
       "      <th></th>\n",
       "      <th>Year</th>\n",
       "      <th>Category</th>\n",
       "      <th>Count</th>\n",
       "    </tr>\n",
       "  </thead>\n",
       "  <tbody>\n",
       "    <tr>\n",
       "      <th>0</th>\n",
       "      <td>2012</td>\n",
       "      <td>UNHCR-refugees</td>\n",
       "      <td>163751</td>\n",
       "    </tr>\n",
       "    <tr>\n",
       "      <th>1</th>\n",
       "      <td>2013</td>\n",
       "      <td>UNHCR-refugees</td>\n",
       "      <td>160347</td>\n",
       "    </tr>\n",
       "    <tr>\n",
       "      <th>2</th>\n",
       "      <td>2014</td>\n",
       "      <td>UNHCR-refugees</td>\n",
       "      <td>149164</td>\n",
       "    </tr>\n",
       "    <tr>\n",
       "      <th>3</th>\n",
       "      <td>2015</td>\n",
       "      <td>UNHCR-refugees</td>\n",
       "      <td>135890</td>\n",
       "    </tr>\n",
       "    <tr>\n",
       "      <th>4</th>\n",
       "      <td>2016</td>\n",
       "      <td>UNHCR-refugees</td>\n",
       "      <td>97322</td>\n",
       "    </tr>\n",
       "    <tr>\n",
       "      <th>5</th>\n",
       "      <td>2017</td>\n",
       "      <td>UNHCR-refugees</td>\n",
       "      <td>104768</td>\n",
       "    </tr>\n",
       "    <tr>\n",
       "      <th>6</th>\n",
       "      <td>2018</td>\n",
       "      <td>UNHCR-refugees</td>\n",
       "      <td>114101</td>\n",
       "    </tr>\n",
       "    <tr>\n",
       "      <th>7</th>\n",
       "      <td>2019</td>\n",
       "      <td>UNHCR-refugees</td>\n",
       "      <td>101757</td>\n",
       "    </tr>\n",
       "    <tr>\n",
       "      <th>8</th>\n",
       "      <td>2020</td>\n",
       "      <td>UNHCR-refugees</td>\n",
       "      <td>109214</td>\n",
       "    </tr>\n",
       "    <tr>\n",
       "      <th>9</th>\n",
       "      <td>2021</td>\n",
       "      <td>UNHCR-refugees</td>\n",
       "      <td>130125</td>\n",
       "    </tr>\n",
       "    <tr>\n",
       "      <th>10</th>\n",
       "      <td>2022</td>\n",
       "      <td>UNHCR-refugees</td>\n",
       "      <td>140621</td>\n",
       "    </tr>\n",
       "    <tr>\n",
       "      <th>11</th>\n",
       "      <td>2012</td>\n",
       "      <td>Asylum-seekers</td>\n",
       "      <td>32647</td>\n",
       "    </tr>\n",
       "    <tr>\n",
       "      <th>12</th>\n",
       "      <td>2013</td>\n",
       "      <td>Asylum-seekers</td>\n",
       "      <td>22145</td>\n",
       "    </tr>\n",
       "    <tr>\n",
       "      <th>13</th>\n",
       "      <td>2014</td>\n",
       "      <td>Asylum-seekers</td>\n",
       "      <td>16699</td>\n",
       "    </tr>\n",
       "    <tr>\n",
       "      <th>14</th>\n",
       "      <td>2015</td>\n",
       "      <td>Asylum-seekers</td>\n",
       "      <td>19631</td>\n",
       "    </tr>\n",
       "    <tr>\n",
       "      <th>15</th>\n",
       "      <td>2016</td>\n",
       "      <td>Asylum-seekers</td>\n",
       "      <td>23946</td>\n",
       "    </tr>\n",
       "    <tr>\n",
       "      <th>16</th>\n",
       "      <td>2017</td>\n",
       "      <td>Asylum-seekers</td>\n",
       "      <td>51859</td>\n",
       "    </tr>\n",
       "    <tr>\n",
       "      <th>17</th>\n",
       "      <td>2018</td>\n",
       "      <td>Asylum-seekers</td>\n",
       "      <td>78766</td>\n",
       "    </tr>\n",
       "    <tr>\n",
       "      <th>18</th>\n",
       "      <td>2019</td>\n",
       "      <td>Asylum-seekers</td>\n",
       "      <td>97017</td>\n",
       "    </tr>\n",
       "    <tr>\n",
       "      <th>19</th>\n",
       "      <td>2020</td>\n",
       "      <td>Asylum-seekers</td>\n",
       "      <td>85352</td>\n",
       "    </tr>\n",
       "    <tr>\n",
       "      <th>20</th>\n",
       "      <td>2021</td>\n",
       "      <td>Asylum-seekers</td>\n",
       "      <td>63143</td>\n",
       "    </tr>\n",
       "    <tr>\n",
       "      <th>21</th>\n",
       "      <td>2022</td>\n",
       "      <td>Asylum-seekers</td>\n",
       "      <td>113066</td>\n",
       "    </tr>\n",
       "  </tbody>\n",
       "</table>\n",
       "</div>"
      ],
      "text/plain": [
       "    Year        Category   Count\n",
       "0   2012  UNHCR-refugees  163751\n",
       "1   2013  UNHCR-refugees  160347\n",
       "2   2014  UNHCR-refugees  149164\n",
       "3   2015  UNHCR-refugees  135890\n",
       "4   2016  UNHCR-refugees   97322\n",
       "5   2017  UNHCR-refugees  104768\n",
       "6   2018  UNHCR-refugees  114101\n",
       "7   2019  UNHCR-refugees  101757\n",
       "8   2020  UNHCR-refugees  109214\n",
       "9   2021  UNHCR-refugees  130125\n",
       "10  2022  UNHCR-refugees  140621\n",
       "11  2012  Asylum-seekers   32647\n",
       "12  2013  Asylum-seekers   22145\n",
       "13  2014  Asylum-seekers   16699\n",
       "14  2015  Asylum-seekers   19631\n",
       "15  2016  Asylum-seekers   23946\n",
       "16  2017  Asylum-seekers   51859\n",
       "17  2018  Asylum-seekers   78766\n",
       "18  2019  Asylum-seekers   97017\n",
       "19  2020  Asylum-seekers   85352\n",
       "20  2021  Asylum-seekers   63143\n",
       "21  2022  Asylum-seekers  113066"
      ]
     },
     "execution_count": 24,
     "metadata": {},
     "output_type": "execute_result"
    }
   ],
   "source": [
    "melted_data = pd.melt(resettled_and_asylum_yrls, id_vars = [\"Year\"], var_name = \"Category\", value_name = \"Count\")\n",
    "melted_data "
   ]
  },
  {
   "cell_type": "code",
   "execution_count": 25,
   "id": "5f9ba629",
   "metadata": {},
   "outputs": [
    {
     "data": {
      "image/png": "[encoded data removed]",
      "text/plain": [
       "<Figure size 1000x400 with 1 Axes>"
      ]
     },
     "metadata": {},
     "output_type": "display_data"
    }
   ],
   "source": [
    "plt.figure(figsize = (10,4))\n",
    "sns.barplot(x= \"Year\", y = \"Count\", hue = \"Category\", data = melted_data, palette = \"mako\")\n",
    "plt.title(\"Total Refugees And Asylum Seekers By Year\")\n",
    "plt.xlabel(\"Year\")\n",
    "plt.ylabel(\"Total Count\")\n",
    "\n",
    "plt.show()"
   ]
  },
  {
   "cell_type": "markdown",
   "id": "16eb9f30",
   "metadata": {},
   "source": [
    "### General Trends"
   ]
  },
  {
   "cell_type": "markdown",
   "id": "dfb55511",
   "metadata": {},
   "source": [
    "**YEAR**:  \n",
    "As the **Year** increases, **Asylum-seekers** and **UNHCR-refugees** also increases, \n",
    "There is a slight correlation between the **Asylum-seekers** and **Year**, and\n",
    "**UNHCR-refugees** and **Year** are negatively correlated\n",
    "\n",
    "\n",
    "**Asylum-seekers** & **UNHCR-refugees**:  \n",
    "The higher the **Asylum-seekers** the higher the **UNHCR-refugees**, there is slightly positive correlation between the two columns in the dataset \n"
   ]
  }
 ],
 "metadata": {
  "kernelspec": {
   "display_name": "Python 3 (ipykernel)",
   "language": "python",
   "name": "python3"
  },
  "language_info": {
   "codemirror_mode": {
    "name": "ipython",
    "version": 3
   },
   "file_extension": ".py",
   "mimetype": "text/x-python",
   "name": "python",
   "nbconvert_exporter": "python",
   "pygments_lexer": "ipython3",
   "version": "3.10.9"
  }
 },
 "nbformat": 4,
 "nbformat_minor": 5
}
